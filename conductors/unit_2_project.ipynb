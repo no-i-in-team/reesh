{
 "cells": [
  {
   "cell_type": "code",
   "execution_count": 41,
   "metadata": {
    "ExecuteTime": {
     "end_time": "2021-02-03T01:30:34.219486Z",
     "start_time": "2021-02-03T01:30:34.205397Z"
    },
    "code_folding": []
   },
   "outputs": [],
   "source": [
    "# def imports():\n",
    "import numpy as np\n",
    "import pandas as pd\n",
    "from sklearn.pipeline import make_pipeline\n",
    "from sklearn.ensemble import RandomForestRegressor\n",
    "from sklearn.model_selection import train_test_split, RandomizedSearchCV\n",
    "from sklearn.preprocessing import StandardScaler\n",
    "from sklearn.metrics import accuracy_score, roc_auc_score, roc_curve, mean_absolute_error\n",
    "from sklearn.impute import SimpleImputer\n",
    "from sklearn.linear_model import LinearRegression, Ridge\n",
    "# from category_encoders import OneHotEncoder, OrdinalEncoder\n",
    "from xgboost import XGBRegressor\n",
    "from shap import TreeExplainer, initjs, force_plot\n",
    "from pdpbox.pdp import pdp_isolate, pdp_plot, pdp_interact, pdp_interact_plot\n",
    "    \n",
    "# imports()"
   ]
  },
  {
   "cell_type": "code",
   "execution_count": 42,
   "metadata": {
    "ExecuteTime": {
     "end_time": "2021-02-03T01:30:34.250444Z",
     "start_time": "2021-02-03T01:30:34.227496Z"
    }
   },
   "outputs": [],
   "source": [
    "train = pd.read_csv( 'train.csv' , index_col= 'id' )\n",
    "\n",
    "test = pd.read_csv( 'test.csv' , index_col = 'id' )"
   ]
  },
  {
   "cell_type": "code",
   "execution_count": 43,
   "metadata": {
    "ExecuteTime": {
     "end_time": "2021-02-03T01:30:34.287108Z",
     "start_time": "2021-02-03T01:30:34.254306Z"
    },
    "code_folding": [
     0,
     13,
     28
    ]
   },
   "outputs": [],
   "source": [
    "train.rename( columns = { 'number_of_total_atoms' : 'tot_atom' , \n",
    "                          'percent_atom_al' : 'al_atom_p' ,\n",
    "                          'percent_atom_ga' : 'ga_atom_p' , \n",
    "                          'percent_atom_in' : 'in_atom_p' , \n",
    "                          'lattice_vector_1_ang' : 'ang_1' ,\n",
    "                          'lattice_vector_2_ang' : 'ang_2' , \n",
    "                          'lattice_vector_3_ang' : 'and_3' ,\n",
    "                          'lattice_angle_alpha_degree' : 'angle_a' , \n",
    "                          'lattice_angle_beta_degree' : 'angle_b' ,\n",
    "                          'lattice_angle_gamma_degree' : 'angle_g' ,\n",
    "                          'formation_energy_ev_natom' : 'f_energy' ,\n",
    "                          'bandgap_energy_ev' : 'bg_energy' } , inplace = True )\n",
    "\n",
    "test.rename( columns = { 'number_of_total_atoms' : 'tot_atom' , \n",
    "                         'percent_atom_al' : 'al_atom_p' ,\n",
    "                         'percent_atom_ga' : 'ga_atom_p' , \n",
    "                         'percent_atom_in' : 'in_atom_p' , \n",
    "                         'lattice_vector_1_ang' : 'ang_1' ,\n",
    "                         'lattice_vector_2_ang' : 'ang_2' , \n",
    "                         'lattice_vector_3_ang' : 'and_3' ,\n",
    "                         'lattice_angle_alpha_degree' : 'angle_a' , \n",
    "                         'lattice_angle_beta_degree' : 'angle_b' ,\n",
    "                         'lattice_angle_gamma_degree' : 'angle_g' } , inplace = True )\n",
    "\n",
    "def wrangle(df):\n",
    "\n",
    "    atoms = [ 'al' , 'ga' , 'in' ]\n",
    "    \n",
    "    for elem in atoms:\n",
    "        df[ f'{ elem }_atoms' ] = df.tot_atom * df[ f'{ elem }_atom_p' ]\n",
    "    \n",
    "    df[ 'al_ga_ratio' ] = df.al_atoms / df.ga_atoms\n",
    "    df[ 'al_in_ratio' ] = df.al_atoms / df.in_atoms\n",
    "    df[ 'in_ga_ratio' ] = df.in_atoms / df.ga_atoms\n",
    "\n",
    "    ratios = [ 'al_ga_ratio' , 'al_in_ratio' , 'in_ga_ratio' ]\n",
    "    nulls = [ np.nan , np.inf ]\n",
    "    \n",
    "    for col in ratios:\n",
    "        df[ col ] = df[ col ].replace( np.inf , np.nan )\n",
    "        df[ col ] = df[ col ].replace( np.nan , df[ col ].max() )\n",
    "    \n",
    "    return df\n",
    "\n",
    "train = wrangle( train )\n",
    "\n",
    "test = wrangle( test )"
   ]
  },
  {
   "cell_type": "code",
   "execution_count": 44,
   "metadata": {
    "ExecuteTime": {
     "end_time": "2021-02-03T01:30:34.303915Z",
     "start_time": "2021-02-03T01:30:34.293243Z"
    },
    "cell_style": "center"
   },
   "outputs": [],
   "source": [
    "target1 = 'bg_energy'\n",
    "target2 = 'f_energy'\n",
    "\n",
    "X = train.drop( columns = [ target1 , target2 ] )\n",
    "X_test = test\n",
    "\n",
    "y1 = train[ target1 ]\n",
    "y2 = train[ target2 ]"
   ]
  },
  {
   "cell_type": "code",
   "execution_count": 45,
   "metadata": {
    "ExecuteTime": {
     "end_time": "2021-02-03T01:30:34.355684Z",
     "start_time": "2021-02-03T01:30:34.307362Z"
    },
    "code_folding": [
     0,
     3
    ]
   },
   "outputs": [
    {
     "name": "stdout",
     "output_type": "stream",
     "text": [
      "Band Gap Energy\n",
      "Mean (eV):  2.0804772685185187\n",
      "Baseline MAE:  0.8267515736025377\n",
      "\n",
      "Formation Energy\n",
      "Mean (eV):  0.18696375\n",
      "Baseline MAE:  0.08535369444444445\n"
     ]
    }
   ],
   "source": [
    "X1_train, X1_val, y1_train, y1_val = train_test_split( \n",
    "    X , y1 , train_size = 0.9 , random_state = 19 )\n",
    "\n",
    "X2_train, X2_val, y2_train, y2_val = train_test_split( \n",
    "    X , y2 , train_size = 0.9 , random_state = 19 )\n",
    "\n",
    "y1_pred = [y1_train.mean()] * len(y1_train)\n",
    "y2_pred = [y2_train.mean()] * len(y2_train)\n",
    "\n",
    "def baselines():\n",
    "    print('Band Gap Energy')\n",
    "    print('Mean (eV): ', y1_train.mean())\n",
    "    print('Baseline MAE: ' , mean_absolute_error( y1_train , y1_pred ) )\n",
    "    print()\n",
    "    print('Formation Energy')\n",
    "    print('Mean (eV): ', y2_train.mean())\n",
    "    print('Baseline MAE: ' , mean_absolute_error( y2_train , y2_pred ) )\n",
    "\n",
    "baselines()"
   ]
  },
  {
   "cell_type": "code",
   "execution_count": 46,
   "metadata": {
    "ExecuteTime": {
     "end_time": "2021-02-03T01:30:38.052381Z",
     "start_time": "2021-02-03T01:30:34.362411Z"
    },
    "code_folding": []
   },
   "outputs": [],
   "source": [
    "# Define models' and encoders' aliases    \n",
    "ss = StandardScaler()\n",
    "\n",
    "rscv =  RandomizedSearchCV\n",
    "lr = LinearRegression()\n",
    "r = Ridge( random_state = 19 )\n",
    "rfr = RandomForestRegressor( random_state = 19 )\n",
    "xgbr = XGBRegressor( random_state = 19 )\n",
    "    \n",
    "# Define models    \n",
    "model_lr = make_pipeline( ss , lr )    \n",
    "model_r = make_pipeline( r )\n",
    "model_rfr = make_pipeline( rfr )\n",
    "model_xgbr = make_pipeline( xgbr )\n",
    "\n",
    "# Fit models to each target separately \n",
    "model_lr1 = model_lr.fit( X1_train , y1_train );    \n",
    "model_r1 = model_r.fit( X1_train , y1_train );\n",
    "model_rfr1 = model_rfr.fit( X1_train , y1_train );\n",
    "model_xgbr1 = model_xgbr.fit( X1_train , y1_train );\n",
    "\n",
    "model_lr2 = model_lr.fit( X2_train , y2_train );\n",
    "model_r2 = model_r.fit( X2_train , y2_train );\n",
    "model_rfr2 = model_rfr.fit( X2_train , y2_train );\n",
    "model_xgbr2 = model_xgbr.fit( X2_train , y2_train );"
   ]
  },
  {
   "cell_type": "code",
   "execution_count": 47,
   "metadata": {
    "ExecuteTime": {
     "end_time": "2021-02-03T01:30:38.272164Z",
     "start_time": "2021-02-03T01:30:38.055084Z"
    },
    "code_folding": [
     0,
     2,
     4,
     7,
     9,
     14,
     16,
     19,
     21,
     26,
     28,
     31,
     33
    ]
   },
   "outputs": [
    {
     "name": "stdout",
     "output_type": "stream",
     "text": [
      "Linear Regression\n",
      "BandGap train MAE:  1.895\n",
      "BandGap val MAE:  1.859\n",
      "\n",
      "Formaion train MAE:  0.059\n",
      "Formation val MAE:  0.058\n",
      "\n",
      "Random Forest Regressor\n",
      "BandGap train MAE:  1.896\n",
      "BandGap val MAE:  1.859\n",
      "\n",
      "Formaion train MAE:  0.015\n",
      "Formation val MAE:  0.027\n",
      "\n",
      "XGBRegressor\n",
      "BandGap train MAE:  1.896\n",
      "BandGap val MAE:  1.859\n",
      "\n",
      "Formaion train MAE:  0.013\n",
      "Formation val MAE:  0.029\n"
     ]
    }
   ],
   "source": [
    "def scores():\n",
    "    print('Linear Regression')\n",
    "    print('BandGap train MAE: ' , round( mean_absolute_error( \n",
    "                                     y1_train , model_lr1.predict( X1_train ) ) , 3 ) )\n",
    "    print('BandGap val MAE: ' , round( mean_absolute_error( \n",
    "                                   y1_val , model_lr1.predict( X1_val ) ) , 3 ) )\n",
    "    print()\n",
    "    print('Formaion train MAE: ' , round( mean_absolute_error( \n",
    "                                      y2_train , model_lr2.predict( X2_train ) ) , 3 ) )\n",
    "    print('Formation val MAE: ' , round( mean_absolute_error( \n",
    "                                     y2_val , model_lr2.predict( X2_val ) ) , 3 ) )\n",
    "    print()\n",
    "\n",
    "    print('Random Forest Regressor')\n",
    "    print('BandGap train MAE: ' , round( mean_absolute_error( \n",
    "                                     y1_train , model_rfr1.predict( X1_train ) ) , 3 ) )\n",
    "    print('BandGap val MAE: ' , round( mean_absolute_error( \n",
    "                                   y1_val , model_rfr1.predict( X1_val ) ) , 3 ) )\n",
    "    print()\n",
    "    print('Formaion train MAE: ' , round( mean_absolute_error( \n",
    "                                      y2_train , model_rfr2.predict( X2_train ) ) , 3 ) )\n",
    "    print('Formation val MAE: ' , round( mean_absolute_error( \n",
    "                                     y2_val , model_rfr2.predict( X2_val ) ) , 3 ) )\n",
    "    print()\n",
    "\n",
    "    print('XGBRegressor')\n",
    "    print('BandGap train MAE: ' , round( mean_absolute_error( \n",
    "                                     y1_train , model_xgbr1.predict( X1_train ) ) , 3 ) )\n",
    "    print('BandGap val MAE: ' , round( mean_absolute_error( \n",
    "                                   y1_val , model_xgbr1.predict( X1_val ) ) , 3 ) )\n",
    "    print()\n",
    "    print('Formaion train MAE: ' , round( mean_absolute_error( \n",
    "                                      y2_train , model_xgbr2.predict( X2_train ) ) , 3 ) )\n",
    "    print('Formation val MAE: ' , round( mean_absolute_error( \n",
    "                                     y2_val , model_xgbr2.predict( X2_val ) ) , 3 ) )\n",
    "    \n",
    "scores()"
   ]
  },
  {
   "cell_type": "code",
   "execution_count": 63,
   "metadata": {
    "ExecuteTime": {
     "end_time": "2021-02-03T04:19:57.702716Z",
     "start_time": "2021-02-03T03:05:52.379472Z"
    },
    "code_folding": [
     73,
     79,
     86,
     93,
     101,
     107,
     114,
     121
    ]
   },
   "outputs": [
    {
     "name": "stdout",
     "output_type": "stream",
     "text": [
      "Fitting 2 folds for each of 2 candidates, totalling 4 fits\n",
      "Fitting 3 folds for each of 100 candidates, totalling 300 fits\n",
      "Fitting 3 folds for each of 100 candidates, totalling 300 fits\n",
      "Fitting 3 folds for each of 100 candidates, totalling 300 fits\n",
      "[19:43:34] WARNING: /Users/travis/build/dmlc/xgboost/src/learner.cc:541: \n",
      "Parameters: { scale_pos_weight } might not be used.\n",
      "\n",
      "  This may not be accurate due to some parameters are only used in language bindings but\n",
      "  passed down to XGBoost core.  Or some parameters are not used but slip through this\n",
      "  verification. Please open an issue if you find above cases.\n",
      "\n",
      "\n",
      "Fitting 2 folds for each of 2 candidates, totalling 4 fits\n",
      "Fitting 3 folds for each of 100 candidates, totalling 300 fits\n",
      "Fitting 3 folds for each of 100 candidates, totalling 300 fits\n",
      "Fitting 3 folds for each of 100 candidates, totalling 300 fits\n"
     ]
    }
   ],
   "source": [
    "# Tuning models' parameters\n",
    "# Parameter rages for linear regression...\n",
    "fit_intercept = [ True ]\n",
    "normalize = [ True ]\n",
    "normalize_lr2 = [ True , False ]\n",
    "\n",
    "# ...for ridge\n",
    "alpha = np.arange( .25 , 1.75 , .05 )\n",
    "max_iter = np.arange( 1640 , 1781 , 10 )\n",
    "solver = [ 'sparse_cg' , 'saga' ]\n",
    "normalize_r = [ False ]\n",
    "\n",
    "# ...for random forest regressor\n",
    "n_estimators = np.arange( 180 , 221 , 4 )\n",
    "criterion = [ 'mse' , 'mae' ]\n",
    "max_depth = np.arange( 9 , 13 , .5 )\n",
    "max_depth_rfr2 = np.arange( 6 , 13 , 1 )\n",
    "max_features = [ 'auto' , 'sqrt' , 'log2' ]\n",
    "bootstrap = [ True ]\n",
    "n_estimators_rfr2 = arange( 180 , 220 , 5)\n",
    "\n",
    "# ... and for xgb regressor\n",
    "objective = [ 'reg:gamma' , \n",
    "              'reg:squarederror' , \n",
    "              'reg:pseudohubererror']\n",
    "eta = np.arange( .5 , .7 , .01 ) \n",
    "eta_xgbr2 = np.arange( .6 , .91 , .03 ) \n",
    "max_depth_x = np.arange( 1 , 3 , 1 ) \n",
    "subsample = np.arange( .8 , .91 , .0)\n",
    "subsample_xgbr2 = np.arange( .78 , .88 , .01)\n",
    "colsample_bytree = np.arange( .88 , .93 , .005)\n",
    "colsample_bytree_xgbr2 = np.arange( .8 , .93 , .02)\n",
    "tree_method = [ 'exact' , 'approx' ]\n",
    "n_estimators_x = np.arange( 200 , 576 , 25 )\n",
    "n_estimators_xgbr2 = np.arange( 120 , 321 , 20)\n",
    "# Organize everything in new dictionaries\n",
    "params_lr = { 'linearregression__fit_intercept' : fit_intercept ,\n",
    "                  'linearregression__normalize' : normalize }\n",
    "params_lr2 = { 'linearregression__fit_intercept': fit_intercept ,\n",
    "                  'linearregression__normalize' : normalize_lr2 }\n",
    "params_r = { 'ridge__alpha' : alpha ,\n",
    "                 'ridge__fit_intercept' : fit_intercept ,\n",
    "                 'ridge__normalize' : normalize_r ,\n",
    "                 'ridge__max_iter' : max_iter ,\n",
    "                 'ridge__solver' : solver }\n",
    "params_rfr = { 'randomforestregressor__n_estimators' : n_estimators ,\n",
    "                   'randomforestregressor__criterion' : criterion ,\n",
    "                   'randomforestregressor__max_depth' : max_depth ,\n",
    "                   'randomforestregressor__max_features' : max_features ,\n",
    "                   'randomforestregressor__bootstrap' : bootstrap }\n",
    "params_rfr2 = { 'randomforestregressor__n_estimators' : n_estimators_rfr2 ,\n",
    "                   'randomforestregressor__criterion' : criterion ,\n",
    "                   'randomforestregressor__max_depth' : max_depth_rfr2 ,\n",
    "                   'randomforestregressor__max_features' : max_features ,\n",
    "                   'randomforestregressor__bootstrap' : bootstrap }\n",
    "\n",
    "params_xgbr = { 'xgbregressor__objective' : objective ,\n",
    "                    'xgbregressor__eta' : eta ,\n",
    "                    'xgbregressor__max_depth' : max_depth_x ,\n",
    "                    'xgbregressor__subsample' : subsample ,\n",
    "                    'xgbregressor__colsample_bytree' : colsample_bytree ,\n",
    "                    'xgbregressor__n_estimators' : n_estimators_x ,\n",
    "                    'xgbregressor__tree_method' : tree_method }\n",
    "\n",
    "params_xgbr2 = { 'xgbregressor__objective' : objective ,\n",
    "                    'xgbregressor__eta' : eta_xgbr2 ,\n",
    "                    'xgbregressor__max_depth' : max_depth_x ,\n",
    "                    'xgbregressor__subsample' : subsample_xgbr2 ,\n",
    "                    'xgbregressor__colsample_bytree' : colsample_bytree_xgbr2 ,\n",
    "                    'xgbregressor__n_estimators' : n_estimators_xgbr2 ,\n",
    "                    'xgbregressor__tree_method' : tree_method }\n",
    "\n",
    "# Define randomized search CV models\n",
    "rscv_lr1 = RandomizedSearchCV( model_lr1 , \n",
    "                              params_lr ,\n",
    "                              n_iter = 2 ,  \n",
    "                              n_jobs = -1 , \n",
    "                              verbose = 2 ,\n",
    "                              cv = 2 )\n",
    "rscv_r1 = RandomizedSearchCV( model_r1 , \n",
    "                             params_r , \n",
    "                             n_iter = 50 ,  \n",
    "                             n_jobs = -1 , \n",
    "                             verbose = 2 ,\n",
    "                             random_state = 19 ,                            \n",
    "                             cv = 3 )\n",
    "rscv_rfr1 = RandomizedSearchCV( model_rfr1 , \n",
    "                               params_rfr , \n",
    "                               n_iter = 50 ,  \n",
    "                               n_jobs = -1 , \n",
    "                               verbose = 2 ,\n",
    "                               random_state = 19 ,                            \n",
    "                               cv = 3 )\n",
    "rscv_xgbr1 = RandomizedSearchCV( model_xgbr1 , \n",
    "                                params_xgbr , \n",
    "                                n_iter = 100 ,  \n",
    "                                n_jobs = -1 , \n",
    "                                verbose = 2 ,\n",
    "                                random_state = 19 ,                               \n",
    "                                cv = 3 )\n",
    "\n",
    "rscv_lr2 = RandomizedSearchCV( model_lr2 , \n",
    "                              params_lr2 ,\n",
    "                              n_iter = 2 ,  \n",
    "                              n_jobs = -1 , \n",
    "                              verbose = 2 ,\n",
    "                              cv = 2 )\n",
    "rscv_r2 = RandomizedSearchCV( model_r2 , \n",
    "                             params_r , \n",
    "                             n_iter = 20 ,  \n",
    "                             n_jobs = -1 , \n",
    "                             verbose = 2 ,\n",
    "                             random_state = 19 ,                            \n",
    "                             cv = 3 )\n",
    "rscv_rfr2 = RandomizedSearchCV( model_rfr2 , \n",
    "                               params_rfr2 , \n",
    "                               n_iter = 75 ,  \n",
    "                               n_jobs = -1 , \n",
    "                               verbose = 2 ,\n",
    "                               random_state = 19 ,                            \n",
    "                               cv = 3 )\n",
    "rscv_xgbr2 = RandomizedSearchCV( model_xgbr2 , \n",
    "                                params_xgbr2 , \n",
    "                                n_iter = 75 ,  \n",
    "                                n_jobs = -1 , \n",
    "                                verbose = 2 ,\n",
    "                                random_state = 19 ,                               \n",
    "                                cv = 3 )\n",
    "\n",
    "# Fit RCSV models with training data\n",
    "rscv_lr1.fit( X1_train , y1_train );\n",
    "rscv_r1.fit( X1_train , y1_train );\n",
    "rscv_rfr1.fit( X1_train , y1_train );\n",
    "rscv_xgbr1.fit( X1_train , y1_train );\n",
    "\n",
    "rscv_lr2.fit( X2_train , y2_train );\n",
    "rscv_r2.fit( X2_train , y2_train );\n",
    "rscv_rfr2.fit( X2_train , y2_train );\n",
    "rscv_xgbr2.fit( X2_train , y2_train );"
   ]
  },
  {
   "cell_type": "code",
   "execution_count": 67,
   "metadata": {
    "ExecuteTime": {
     "end_time": "2021-02-03T05:58:58.555117Z",
     "start_time": "2021-02-03T05:58:58.525001Z"
    },
    "code_folding": []
   },
   "outputs": [
    {
     "data": {
      "text/plain": [
       "227"
      ]
     },
     "execution_count": 67,
     "metadata": {},
     "output_type": "execute_result"
    }
   ],
   "source": [
    "# # Fine tune hyperparameters\n",
    "\n",
    "# lr_models = [ rscv_lr1 , rscv_r1 , rscv_rfr1 , rscv_xgbr1 , \n",
    "#               rscv_lr2 , rscv_r2 , rscv_rfr2 , rscv_xgbr2 ]\n",
    "# for mod in lr_models:\n",
    "#     print( mod.best_params_ )\n",
    "#     print()"
   ]
  },
  {
   "cell_type": "code",
   "execution_count": null,
   "metadata": {
    "ExecuteTime": {
     "end_time": "2021-02-02T22:25:02.752149Z",
     "start_time": "2021-02-02T22:25:02.069Z"
    }
   },
   "outputs": [],
   "source": [
    "feature = 'al_atoms'\n",
    "features = ['al_atoms', 'ga_atoms']\n",
    "\n",
    "isolate1 = pdp_isolate( model = model_xgbr1 ,\n",
    "                       dataset = X1_val ,\n",
    "                       model_features = X1_val.columns ,\n",
    "                       feature = feature )\n",
    "pdp_plot( isolate1, feature_name = feature );\n",
    "\n",
    "interact1 = pdp_interact( model = model_xgbr1 ,\n",
    "                         dataset = X1_val ,\n",
    "                         model_features = X1_val.columns ,\n",
    "                         features = features )\n",
    "pdp_interact_plot( interact1 , plot_type = 'grid' , feature_names = features );"
   ]
  },
  {
   "cell_type": "code",
   "execution_count": null,
   "metadata": {
    "ExecuteTime": {
     "end_time": "2021-02-02T22:25:02.759207Z",
     "start_time": "2021-02-02T22:25:02.072Z"
    }
   },
   "outputs": [],
   "source": [
    "isolate2 = pdp_isolate( model = model_xgbr2 ,\n",
    "                       dataset = X2_val ,\n",
    "                       model_features = X2_val.columns ,\n",
    "                       feature = feature )\n",
    "pdp_plot( isolate2 , feature_name = feature );\n",
    "\n",
    "interact2 = pdp_interact( model = model_xgbr2 ,\n",
    "                         dataset = X2_val ,\n",
    "                         model_features = X2_val.columns ,\n",
    "                         features = features )\n",
    "pdp_interact_plot( interact2 , plot_type = 'grid' , feature_names = features );"
   ]
  },
  {
   "cell_type": "code",
   "execution_count": null,
   "metadata": {},
   "outputs": [],
   "source": []
  }
 ],
 "metadata": {
  "kernelspec": {
   "display_name": "Python 3",
   "language": "python",
   "name": "python3"
  },
  "language_info": {
   "codemirror_mode": {
    "name": "ipython",
    "version": 3
   },
   "file_extension": ".py",
   "mimetype": "text/x-python",
   "name": "python",
   "nbconvert_exporter": "python",
   "pygments_lexer": "ipython3",
   "version": "3.9.1"
  },
  "varInspector": {
   "cols": {
    "lenName": 16,
    "lenType": 16,
    "lenVar": 40
   },
   "kernels_config": {
    "python": {
     "delete_cmd_postfix": "",
     "delete_cmd_prefix": "del ",
     "library": "var_list.py",
     "varRefreshCmd": "print(var_dic_list())"
    },
    "r": {
     "delete_cmd_postfix": ") ",
     "delete_cmd_prefix": "rm(",
     "library": "var_list.r",
     "varRefreshCmd": "cat(var_dic_list()) "
    }
   },
   "types_to_exclude": [
    "module",
    "function",
    "builtin_function_or_method",
    "instance",
    "_Feature"
   ],
   "window_display": false
  }
 },
 "nbformat": 4,
 "nbformat_minor": 4
}
